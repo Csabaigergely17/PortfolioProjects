{
 "cells": [
  {
   "cell_type": "code",
   "execution_count": null,
   "id": "9a463d5c",
   "metadata": {},
   "outputs": [],
   "source": [
    "from requests import Request, Session\n",
    "from requests.exceptions import ConnectionError, Timeout, TooManyRedirects\n",
    "import json\n",
    "\n",
    "url = 'https://pro-api.coinmarketcap.com/v1/cryptocurrency/listings/latest' \n",
    "#Original Sandbox Environment: 'https://sandbox-api.coinmarketcap.com/v1/cryptocurrency/listings/latest'\n",
    "parameters = {\n",
    "  'start':'1',\n",
    "  'limit':'15',\n",
    "  'convert':'USD'\n",
    "}\n",
    "headers = {\n",
    "  'Accepts': 'application/json',\n",
    "  'X-CMC_PRO_API_KEY': '0ad53085-1cb2-4eb8-ad9e-3ffbd7e56509',\n",
    "}\n",
    "\n",
    "session = Session()\n",
    "session.headers.update(headers)\n",
    "\n",
    "try:\n",
    "  response = session.get(url, params=parameters)\n",
    "  data = json.loads(response.text)\n",
    "  #print(data)\n",
    "except (ConnectionError, Timeout, TooManyRedirects) as e:\n",
    "  print(e)"
   ]
  },
  {
   "cell_type": "code",
   "execution_count": null,
   "id": "22cf0247",
   "metadata": {},
   "outputs": [],
   "source": [
    "import pandas as pd\n",
    "\n",
    "pd.set_option('display.max_columns', None)\n",
    "pd.set_option('display.max_rows', None)"
   ]
  },
  {
   "cell_type": "code",
   "execution_count": null,
   "id": "303a4118",
   "metadata": {},
   "outputs": [],
   "source": [
    "df = pd.json_normalize(data['data'])\n",
    "df['timestamp'] = pd.to_datetime('now')\n",
    "df"
   ]
  },
  {
   "cell_type": "code",
   "execution_count": null,
   "id": "4b5cde5f",
   "metadata": {},
   "outputs": [],
   "source": [
    "def api_runner():\n",
    "    global df\n",
    "    url = 'https://pro-api.coinmarketcap.com/v1/cryptocurrency/listings/latest' \n",
    "    #Original Sandbox Environment: 'https://sandbox-api.coinmarketcap.com/v1/cryptocurrency/listings/latest'\n",
    "    parameters = {\n",
    "      'start':'1',\n",
    "      'limit':'15',\n",
    "      'convert':'USD'\n",
    "    }\n",
    "    headers = {\n",
    "      'Accepts': 'application/json',\n",
    "      'X-CMC_PRO_API_KEY': '0ad53085-1cb2-4eb8-ad9e-3ffbd7e56509',\n",
    "    }\n",
    "\n",
    "    session = Session()\n",
    "    session.headers.update(headers)\n",
    "\n",
    "    try:\n",
    "      response = session.get(url, params=parameters)\n",
    "      data = json.loads(response.text)\n",
    "      #print(data)\n",
    "    except (ConnectionError, Timeout, TooManyRedirects) as e:\n",
    "      print(e)"
   ]
  },
  {
   "cell_type": "code",
   "execution_count": null,
   "id": "fe1978b8",
   "metadata": {},
   "outputs": [],
   "source": [
    "import os \n",
    "from time import time\n",
    "from time import sleep\n",
    "\n",
    "for i in range(333):\n",
    "    api_runner()\n",
    "    print('API Runner completed')\n",
    "    sleep(60) \n",
    "exit()"
   ]
  },
  {
   "cell_type": "code",
   "execution_count": null,
   "id": "474f83ef",
   "metadata": {},
   "outputs": [],
   "source": [
    "df72 = pd.read_csv(r'C:\\Users\\alexf\\OneDrive\\Documents\\Python Scripts\\API.csv')\n",
    "df72"
   ]
  },
  {
   "cell_type": "code",
   "execution_count": null,
   "id": "2f9950ae",
   "metadata": {},
   "outputs": [],
   "source": [
    "df"
   ]
  },
  {
   "cell_type": "code",
   "execution_count": null,
   "id": "25be92b8",
   "metadata": {},
   "outputs": [],
   "source": [
    "pd.set_option('display.float_format', lambda x: '%.5f' % x)"
   ]
  },
  {
   "cell_type": "code",
   "execution_count": null,
   "id": "12ea14c5",
   "metadata": {},
   "outputs": [],
   "source": [
    "# coin trends\n",
    "\n",
    "df3 = df.groupby('name', sort=False)[['quote.USD.percent_change_1h','quote.USD.percent_change_24h','quote.USD.percent_change_7d','quote.USD.percent_change_30d','quote.USD.percent_change_60d','quote.USD.percent_change_90d']].mean()\n",
    "df3"
   ]
  },
  {
   "cell_type": "code",
   "execution_count": null,
   "id": "beea1fdc",
   "metadata": {},
   "outputs": [],
   "source": [
    "df4 = df3.stack()\n",
    "df4"
   ]
  },
  {
   "cell_type": "code",
   "execution_count": null,
   "id": "a4c3fb5d",
   "metadata": {},
   "outputs": [],
   "source": [
    "type(df4)"
   ]
  },
  {
   "cell_type": "code",
   "execution_count": null,
   "id": "830c7776",
   "metadata": {},
   "outputs": [],
   "source": [
    "df5 = df4.to_frame(name='values')\n",
    "df5"
   ]
  },
  {
   "cell_type": "code",
   "execution_count": null,
   "id": "c343200e",
   "metadata": {},
   "outputs": [],
   "source": [
    "df5.count()"
   ]
  },
  {
   "cell_type": "code",
   "execution_count": null,
   "id": "ddd6a9d5",
   "metadata": {},
   "outputs": [],
   "source": [
    "index = pd.Index(range(90))\n",
    "\n",
    "\n",
    "df6 = df5.set_index(index)\n",
    "df6"
   ]
  },
  {
   "cell_type": "code",
   "execution_count": null,
   "id": "be58a304",
   "metadata": {},
   "outputs": [],
   "source": [
    "df7 = df6.rename(columns={'level_1': 'percent_change'})\n",
    "df7"
   ]
  },
  {
   "cell_type": "code",
   "execution_count": null,
   "id": "1cac3077",
   "metadata": {},
   "outputs": [],
   "source": [
    "df7['percent_change'] = df7['percent_change'].replace(['quote.USD.percent_change_24h','quote.USD.percent_change_7d','quote.USD.percent_change_30d','quote.USD.percent_change_60d','quote.USD.percent_change_90d'],['24h','7d','30d','60d','90d'])\n",
    "df7"
   ]
  },
  {
   "cell_type": "code",
   "execution_count": null,
   "id": "fc8c610d",
   "metadata": {},
   "outputs": [],
   "source": [
    "import seaborn as sns\n",
    "import matplotlib.pyplot as plt"
   ]
  },
  {
   "cell_type": "code",
   "execution_count": null,
   "id": "40a97e1d",
   "metadata": {},
   "outputs": [],
   "source": [
    "sns.catplot(x='percent_change', y='values', hue='name', data=df7, kind='point')"
   ]
  },
  {
   "cell_type": "code",
   "execution_count": null,
   "id": "3204719b",
   "metadata": {},
   "outputs": [],
   "source": [
    "df10 = df[['name','quote.USD.price','timestamp']]\n",
    "df10 = df10.query(\"name == 'Bitcoin'\")\n",
    "df10"
   ]
  },
  {
   "cell_type": "code",
   "execution_count": null,
   "id": "f769579e",
   "metadata": {},
   "outputs": [],
   "source": [
    "sns.set_theme(style=\"darkgrid\")\n",
    "\n",
    "sns.lineplot(x='timestamp', y='quote.USD.price', data = df10)"
   ]
  },
  {
   "cell_type": "code",
   "execution_count": null,
   "id": "c862ecd3",
   "metadata": {},
   "outputs": [],
   "source": []
  }
 ],
 "metadata": {
  "kernelspec": {
   "display_name": "Python 3 (ipykernel)",
   "language": "python",
   "name": "python3"
  },
  "language_info": {
   "codemirror_mode": {
    "name": "ipython",
    "version": 3
   },
   "file_extension": ".py",
   "mimetype": "text/x-python",
   "name": "python",
   "nbconvert_exporter": "python",
   "pygments_lexer": "ipython3",
   "version": "3.10.7"
  }
 },
 "nbformat": 4,
 "nbformat_minor": 5
}
